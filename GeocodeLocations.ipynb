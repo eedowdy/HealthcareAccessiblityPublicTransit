{
 "cells": [
  {
   "cell_type": "code",
   "execution_count": 1,
   "id": "2af1bc19-c966-47b7-b075-ae2e5a6598db",
   "metadata": {},
   "outputs": [],
   "source": [
    "import pandas as pd\n",
    "import geopandas as gpd\n",
    "import geopy\n",
    "import fiona"
   ]
  },
  {
   "cell_type": "code",
   "execution_count": 2,
   "id": "cd9f5b73-1086-49c2-8734-f1dfbbdfd95a",
   "metadata": {},
   "outputs": [
    {
     "data": {
      "text/html": [
       "<div>\n",
       "<style scoped>\n",
       "    .dataframe tbody tr th:only-of-type {\n",
       "        vertical-align: middle;\n",
       "    }\n",
       "\n",
       "    .dataframe tbody tr th {\n",
       "        vertical-align: top;\n",
       "    }\n",
       "\n",
       "    .dataframe thead th {\n",
       "        text-align: right;\n",
       "    }\n",
       "</style>\n",
       "<table border=\"1\" class=\"dataframe\">\n",
       "  <thead>\n",
       "    <tr style=\"text-align: right;\">\n",
       "      <th></th>\n",
       "      <th>Facility Name</th>\n",
       "      <th>Facility Type</th>\n",
       "      <th>Lat</th>\n",
       "      <th>Lon</th>\n",
       "      <th>Address</th>\n",
       "      <th>Walkin Hours</th>\n",
       "      <th>Walkin Days</th>\n",
       "    </tr>\n",
       "  </thead>\n",
       "  <tbody>\n",
       "    <tr>\n",
       "      <th>0</th>\n",
       "      <td>Campustown Urgent Care</td>\n",
       "      <td>Urgent Care</td>\n",
       "      <td>NaN</td>\n",
       "      <td>NaN</td>\n",
       "      <td>631 E Green St, Champaign, IL 61820</td>\n",
       "      <td>09:00-18:00</td>\n",
       "      <td>All</td>\n",
       "    </tr>\n",
       "    <tr>\n",
       "      <th>1</th>\n",
       "      <td>OSF OnCall</td>\n",
       "      <td>Urgent Care</td>\n",
       "      <td>NaN</td>\n",
       "      <td>NaN</td>\n",
       "      <td>2043 S Neil St, Champaign, IL 61820</td>\n",
       "      <td>08:00-20:00</td>\n",
       "      <td>All</td>\n",
       "    </tr>\n",
       "    <tr>\n",
       "      <th>2</th>\n",
       "      <td>217 Immediate Care</td>\n",
       "      <td>Urgent Care</td>\n",
       "      <td>NaN</td>\n",
       "      <td>NaN</td>\n",
       "      <td>1806 N Market St, Champaign, IL 61822</td>\n",
       "      <td>07:00-16:30</td>\n",
       "      <td>M-F</td>\n",
       "    </tr>\n",
       "    <tr>\n",
       "      <th>3</th>\n",
       "      <td>OSF OnCall</td>\n",
       "      <td>Urgent Care</td>\n",
       "      <td>NaN</td>\n",
       "      <td>NaN</td>\n",
       "      <td>2718 N Prospect Ave, Champaign, IL 61822</td>\n",
       "      <td>08:00-20:00</td>\n",
       "      <td>All</td>\n",
       "    </tr>\n",
       "    <tr>\n",
       "      <th>4</th>\n",
       "      <td>Christie Clinic Convenient Care</td>\n",
       "      <td>Urgent Care</td>\n",
       "      <td>NaN</td>\n",
       "      <td>NaN</td>\n",
       "      <td>1710 E Windsor Rd, Urbana, IL 61802</td>\n",
       "      <td>08:00-20:00</td>\n",
       "      <td>All</td>\n",
       "    </tr>\n",
       "  </tbody>\n",
       "</table>\n",
       "</div>"
      ],
      "text/plain": [
       "                     Facility Name Facility Type  Lat  Lon  \\\n",
       "0           Campustown Urgent Care   Urgent Care  NaN  NaN   \n",
       "1                       OSF OnCall   Urgent Care  NaN  NaN   \n",
       "2               217 Immediate Care   Urgent Care  NaN  NaN   \n",
       "3                       OSF OnCall   Urgent Care  NaN  NaN   \n",
       "4  Christie Clinic Convenient Care   Urgent Care  NaN  NaN   \n",
       "\n",
       "                                    Address Walkin Hours Walkin Days  \n",
       "0       631 E Green St, Champaign, IL 61820  09:00-18:00         All  \n",
       "1       2043 S Neil St, Champaign, IL 61820  08:00-20:00         All  \n",
       "2     1806 N Market St, Champaign, IL 61822  07:00-16:30         M-F  \n",
       "3  2718 N Prospect Ave, Champaign, IL 61822  08:00-20:00         All  \n",
       "4       1710 E Windsor Rd, Urbana, IL 61802  08:00-20:00         All  "
      ]
     },
     "execution_count": 2,
     "metadata": {},
     "output_type": "execute_result"
    }
   ],
   "source": [
    "facilities = pd.read_csv(\"HealthCareFacilitiesCU.csv\")\n",
    "facilities.head()"
   ]
  },
  {
   "cell_type": "code",
   "execution_count": 3,
   "id": "88e0fa15-3ef4-4f23-b932-1cb1a4cf12d3",
   "metadata": {},
   "outputs": [],
   "source": [
    "for idx, row in facilities.iterrows():\n",
    "    address = row['Address']\n",
    "    coords = gpd.tools.geocode(address)\n",
    "    facilities.at[idx, 'Lon'] = coords['geometry'][0].x\n",
    "    facilities.at[idx, 'Lat'] = coords['geometry'][0].y"
   ]
  },
  {
   "cell_type": "code",
   "execution_count": 4,
   "id": "904a1e02-3d56-4b38-99e4-174706bca90c",
   "metadata": {},
   "outputs": [],
   "source": [
    "facilities.to_csv('Geocoded.csv')"
   ]
  },
  {
   "cell_type": "code",
   "execution_count": 5,
   "id": "0e3d2685-9c51-4f8d-9b27-7bedfd2fed0e",
   "metadata": {},
   "outputs": [],
   "source": [
    "facilities_gdf = gpd.GeoDataFrame(facilities, geometry=gpd.points_from_xy(facilities.Lon, facilities.Lat))\n",
    "facilities_gdf = facilities_gdf.set_crs(\"EPSG:4326\")"
   ]
  },
  {
   "cell_type": "code",
   "execution_count": 6,
   "id": "2baffd09-2f48-4874-9dca-199c1101f033",
   "metadata": {},
   "outputs": [
    {
     "name": "stderr",
     "output_type": "stream",
     "text": [
      "/tmp/ipykernel_228/2532086965.py:1: UserWarning: Column names longer than 10 characters will be truncated when saved to ESRI Shapefile.\n",
      "  facilities_gdf.to_file('facilities/CUHealthcare.shp')\n"
     ]
    }
   ],
   "source": [
    "facilities_gdf.to_file('facilities/CUHealthcare.shp')"
   ]
  },
  {
   "cell_type": "code",
   "execution_count": 7,
   "id": "57a5deb4-b661-40c4-9c39-6d37f2938c18",
   "metadata": {},
   "outputs": [
    {
     "name": "stdout",
     "output_type": "stream",
     "text": [
      "EPSG:4326\n"
     ]
    }
   ],
   "source": [
    "print(facilities_gdf.crs)"
   ]
  },
  {
   "cell_type": "code",
   "execution_count": 8,
   "id": "2bed93bf-f592-4b03-bd49-d09249978c21",
   "metadata": {},
   "outputs": [
    {
     "data": {
      "text/plain": [
       "<AxesSubplot:>"
      ]
     },
     "execution_count": 8,
     "metadata": {},
     "output_type": "execute_result"
    },
    {
     "data": {
      "image/png": "[encoded data removed]",
      "text/plain": [
       "<Figure size 432x288 with 1 Axes>"
      ]
     },
     "metadata": {
      "needs_background": "light"
     },
     "output_type": "display_data"
    }
   ],
   "source": [
    "facilities_gdf.plot()"
   ]
  }
 ],
 "metadata": {
  "kernelspec": {
   "display_name": "Python 3",
   "language": "python",
   "name": "python3"
  },
  "language_info": {
   "codemirror_mode": {
    "name": "ipython",
    "version": 3
   },
   "file_extension": ".py",
   "mimetype": "text/x-python",
   "name": "python",
   "nbconvert_exporter": "python",
   "pygments_lexer": "ipython3",
   "version": "3.8.12"
  }
 },
 "nbformat": 4,
 "nbformat_minor": 5
}
