{
 "cells": [
  {
   "cell_type": "code",
   "execution_count": 1,
   "id": "e8fe03c6-fee5-4b87-af24-0c588450ffe4",
   "metadata": {},
   "outputs": [],
   "source": [
    "import requests\n",
    "import json\n",
    "import pandas as pd\n",
    "import geopandas as gpd"
   ]
  },
  {
   "cell_type": "code",
   "execution_count": 2,
   "id": "1c2425a4-be86-485b-809a-b2c2ab41fe91",
   "metadata": {},
   "outputs": [],
   "source": [
    "stopslink = \"https://developer.cumtd.com/api/v2.2/json/GetStops?key=bc3d6f16852444f888014a01803b3954\"\n",
    "response = requests.get(stopslink)"
   ]
  },
  {
   "cell_type": "code",
   "execution_count": 3,
   "id": "776c63b9-fd32-44db-b497-6e6af320f3b5",
   "metadata": {},
   "outputs": [
    {
     "data": {
      "text/plain": [
       "[{'code': 'MTD5437',\n",
       "  'stop_id': '150DALE:1',\n",
       "  'stop_lat': 40.114512,\n",
       "  'stop_lon': -88.180673,\n",
       "  'stop_name': 'U.S. 150 & Dale (NE Corner)'},\n",
       " {'code': 'MTD5437',\n",
       "  'stop_id': '150DALE:3',\n",
       "  'stop_lat': 40.114503,\n",
       "  'stop_lon': -88.180848,\n",
       "  'stop_name': 'U.S. 150 & Dale (South Side)'}]"
      ]
     },
     "execution_count": 3,
     "metadata": {},
     "output_type": "execute_result"
    }
   ],
   "source": [
    "stop_list = response.json()['stops'] # list of dictionaries of stop info, in each dictionary under 'stop_points' is a list of points included in that stop. these have lat and lon\n",
    "stop_list[0]['stop_points'] "
   ]
  },
  {
   "cell_type": "code",
   "execution_count": 4,
   "id": "9459c376-9828-4d0b-8258-7236a9e2798d",
   "metadata": {},
   "outputs": [
    {
     "data": {
      "text/html": [
       "<div>\n",
       "<style scoped>\n",
       "    .dataframe tbody tr th:only-of-type {\n",
       "        vertical-align: middle;\n",
       "    }\n",
       "\n",
       "    .dataframe tbody tr th {\n",
       "        vertical-align: top;\n",
       "    }\n",
       "\n",
       "    .dataframe thead th {\n",
       "        text-align: right;\n",
       "    }\n",
       "</style>\n",
       "<table border=\"1\" class=\"dataframe\">\n",
       "  <thead>\n",
       "    <tr style=\"text-align: right;\">\n",
       "      <th></th>\n",
       "      <th>Stop ID</th>\n",
       "      <th>Stop Name</th>\n",
       "      <th>Lat</th>\n",
       "      <th>Lon</th>\n",
       "      <th>Stop Code</th>\n",
       "    </tr>\n",
       "  </thead>\n",
       "  <tbody>\n",
       "  </tbody>\n",
       "</table>\n",
       "</div>"
      ],
      "text/plain": [
       "Empty DataFrame\n",
       "Columns: [Stop ID, Stop Name, Lat, Lon, Stop Code]\n",
       "Index: []"
      ]
     },
     "execution_count": 4,
     "metadata": {},
     "output_type": "execute_result"
    }
   ],
   "source": [
    "stop_df = pd.DataFrame(columns=['Stop ID', 'Stop Name', 'Lat', 'Lon', 'Stop Code'])\n",
    "stop_df"
   ]
  },
  {
   "cell_type": "code",
   "execution_count": 5,
   "id": "6d9e5792-5e26-4415-a6f3-6cd9fa054e6c",
   "metadata": {},
   "outputs": [],
   "source": [
    "for stop in stop_list:\n",
    "    stop_points = stop['stop_points']\n",
    "    for point in stop_points:\n",
    "        stop_df = stop_df.append({'Stop ID':point['stop_id'], 'Stop Name' : point['stop_name'], 'Lat' : point['stop_lat'], 'Lon' : point['stop_lon'], 'Stop Code' : point['code']}, ignore_index = True)"
   ]
  },
  {
   "cell_type": "code",
   "execution_count": 6,
   "id": "111ee245-eae1-40da-9cd4-ace74fb0c887",
   "metadata": {},
   "outputs": [],
   "source": [
    "stop_df.to_csv('CUMTDStops10-19-22.csv')"
   ]
  },
  {
   "cell_type": "code",
   "execution_count": 7,
   "id": "bfcd4aa9-0f71-4152-8e68-442785b700a9",
   "metadata": {},
   "outputs": [],
   "source": [
    "trips_df = pd.read_csv('CUMTDTrips10-5-22.csv')"
   ]
  },
  {
   "cell_type": "code",
   "execution_count": 8,
   "id": "0f8943f8-46ee-495f-81de-e1b0a4e6b983",
   "metadata": {},
   "outputs": [
    {
     "data": {
      "text/plain": [
       "(7022, 8)"
      ]
     },
     "execution_count": 8,
     "metadata": {},
     "output_type": "execute_result"
    }
   ],
   "source": [
    "trips_df.shape"
   ]
  },
  {
   "cell_type": "code",
   "execution_count": 9,
   "id": "6b51a156-1c2b-434d-b01a-4b13cba02b91",
   "metadata": {},
   "outputs": [
    {
     "data": {
      "text/plain": [
       "(102, 8)"
      ]
     },
     "execution_count": 9,
     "metadata": {},
     "output_type": "execute_result"
    }
   ],
   "source": [
    "trips_df = trips_df.drop_duplicates(subset=['route_id'])\n",
    "trips_df.shape"
   ]
  },
  {
   "cell_type": "code",
   "execution_count": 10,
   "id": "dc02da01-2ea7-4a42-92f3-7ccf1caba75d",
   "metadata": {},
   "outputs": [
    {
     "data": {
      "text/html": [
       "<div>\n",
       "<style scoped>\n",
       "    .dataframe tbody tr th:only-of-type {\n",
       "        vertical-align: middle;\n",
       "    }\n",
       "\n",
       "    .dataframe tbody tr th {\n",
       "        vertical-align: top;\n",
       "    }\n",
       "\n",
       "    .dataframe thead th {\n",
       "        text-align: right;\n",
       "    }\n",
       "</style>\n",
       "<table border=\"1\" class=\"dataframe\">\n",
       "  <thead>\n",
       "    <tr style=\"text-align: right;\">\n",
       "      <th></th>\n",
       "      <th>block_id</th>\n",
       "      <th>route_id</th>\n",
       "      <th>direction_id</th>\n",
       "      <th>trip_headsign</th>\n",
       "      <th>shape_id</th>\n",
       "      <th>service_id</th>\n",
       "      <th>trip_id</th>\n",
       "      <th>original_trip_id</th>\n",
       "    </tr>\n",
       "  </thead>\n",
       "  <tbody>\n",
       "    <tr>\n",
       "      <th>0</th>\n",
       "      <td>b_LN2 MF</td>\n",
       "      <td>LINK</td>\n",
       "      <td>1</td>\n",
       "      <td>Water Survey</td>\n",
       "      <td>[@6.0.15252684@]2</td>\n",
       "      <td>LN2 MF_merged_1703</td>\n",
       "      <td>[@6.0.15252684@][2][1622672028480]/57__LN2_MF_...</td>\n",
       "      <td>[@6.0.15252684@][2][1622672028480]/57__LN2_MF</td>\n",
       "    </tr>\n",
       "    <tr>\n",
       "      <th>1</th>\n",
       "      <td>a_SV4 UI NOSCH</td>\n",
       "      <td>SILVER EVENING</td>\n",
       "      <td>0</td>\n",
       "      <td>Lincoln Square</td>\n",
       "      <td>130N SILVER EVENING 1</td>\n",
       "      <td>SV4 UI NOSCH</td>\n",
       "      <td>[@12.0.42224456@][3][1246897172937]/2__SV4_UI_...</td>\n",
       "      <td>NaN</td>\n",
       "    </tr>\n",
       "    <tr>\n",
       "      <th>2</th>\n",
       "      <td>a_I2 UI-F</td>\n",
       "      <td>ILLINI</td>\n",
       "      <td>0</td>\n",
       "      <td>Lincoln &amp; Killarney</td>\n",
       "      <td>22N ILLINI 10</td>\n",
       "      <td>I2 UI-F</td>\n",
       "      <td>[@6.0.28930998@][1][1654017581186]/12__I2_UI-F</td>\n",
       "      <td>NaN</td>\n",
       "    </tr>\n",
       "    <tr>\n",
       "      <th>3</th>\n",
       "      <td>a_SV4 UI F</td>\n",
       "      <td>SILVER</td>\n",
       "      <td>1</td>\n",
       "      <td>PAR</td>\n",
       "      <td>SILVER 120</td>\n",
       "      <td>SV4 UI F</td>\n",
       "      <td>[@6.0.28932250@][2][1654215235685]/129__SV4_UI_F</td>\n",
       "      <td>NaN</td>\n",
       "    </tr>\n",
       "    <tr>\n",
       "      <th>4</th>\n",
       "      <td>a_O4 MF</td>\n",
       "      <td>ORANGE</td>\n",
       "      <td>0</td>\n",
       "      <td>Lincoln Square - US 150 &amp; Dodson</td>\n",
       "      <td>[@2.0.86175868@]ORANGE 12</td>\n",
       "      <td>O4 MF_merged_1589</td>\n",
       "      <td>[@2.0.86175868@][1458585713139]/14__O4_MF_merg...</td>\n",
       "      <td>[@2.0.86175868@][1458585713139]/14__O4_MF</td>\n",
       "    </tr>\n",
       "    <tr>\n",
       "      <th>...</th>\n",
       "      <td>...</td>\n",
       "      <td>...</td>\n",
       "      <td>...</td>\n",
       "      <td>...</td>\n",
       "      <td>...</td>\n",
       "      <td>...</td>\n",
       "      <td>...</td>\n",
       "      <td>...</td>\n",
       "    </tr>\n",
       "    <tr>\n",
       "      <th>969</th>\n",
       "      <td>b_1N SHOW  MTTF</td>\n",
       "      <td>1 YELLOW ALT</td>\n",
       "      <td>0</td>\n",
       "      <td>Harris &amp; Harvard</td>\n",
       "      <td>[@14.0.56289002@]26</td>\n",
       "      <td>1N SHOW  MTTF</td>\n",
       "      <td>[@6.0.4561608@][1][1612730147779]/2__1N_SHOW__...</td>\n",
       "      <td>NaN</td>\n",
       "    </tr>\n",
       "    <tr>\n",
       "      <th>1044</th>\n",
       "      <td>a_ORANGE_GREEN</td>\n",
       "      <td>5W GREEN ALT 2</td>\n",
       "      <td>0</td>\n",
       "      <td>Fairlawn &amp; Vine</td>\n",
       "      <td>7E ALT 2</td>\n",
       "      <td>ORANGE_GREEN_merged_1551</td>\n",
       "      <td>[@36.0.28512376@][3][1175211427003]/21__ORANGE...</td>\n",
       "      <td>[@36.0.28512376@][3][1175211427003]/21__ORANGE...</td>\n",
       "    </tr>\n",
       "    <tr>\n",
       "      <th>1270</th>\n",
       "      <td>b_3S SHOW#1 WED</td>\n",
       "      <td>3S LAVENDER ALT</td>\n",
       "      <td>1</td>\n",
       "      <td>Crescent &amp; John</td>\n",
       "      <td>3S ALT 1</td>\n",
       "      <td>3S SHOW#1 WED</td>\n",
       "      <td>[@36.0.28512104@][2][1175208212394]/2__3S_SHOW...</td>\n",
       "      <td>NaN</td>\n",
       "    </tr>\n",
       "    <tr>\n",
       "      <th>1435</th>\n",
       "      <td>b_GNX1 SHOW MTTF</td>\n",
       "      <td>5E GREEN EXPRESS 1 ALT</td>\n",
       "      <td>0</td>\n",
       "      <td>Harris &amp; Harvard</td>\n",
       "      <td>5E EXP 1 ALT</td>\n",
       "      <td>GNX1 SHOW MTTF_merged_1668</td>\n",
       "      <td>[@36.0.28512759@][3][1175211123269]/8__GNX1_SH...</td>\n",
       "      <td>[@36.0.28512759@][3][1175211123269]/8__GNX1_SH...</td>\n",
       "    </tr>\n",
       "    <tr>\n",
       "      <th>3716</th>\n",
       "      <td>a_GREY MF SHOW</td>\n",
       "      <td>7E GREY ALT</td>\n",
       "      <td>0</td>\n",
       "      <td>Race &amp; Iowa</td>\n",
       "      <td>7E GREY ALT 1</td>\n",
       "      <td>GREY MF SHOW_merged_1563</td>\n",
       "      <td>[@36.0.28513123@][3][1175211352675]/15__GREY_M...</td>\n",
       "      <td>[@36.0.28513123@][3][1175211352675]/15__GREY_M...</td>\n",
       "    </tr>\n",
       "  </tbody>\n",
       "</table>\n",
       "<p>102 rows × 8 columns</p>\n",
       "</div>"
      ],
      "text/plain": [
       "              block_id                route_id  direction_id  \\\n",
       "0             b_LN2 MF                    LINK             1   \n",
       "1       a_SV4 UI NOSCH          SILVER EVENING             0   \n",
       "2            a_I2 UI-F                  ILLINI             0   \n",
       "3           a_SV4 UI F                  SILVER             1   \n",
       "4              a_O4 MF                  ORANGE             0   \n",
       "...                ...                     ...           ...   \n",
       "969    b_1N SHOW  MTTF            1 YELLOW ALT             0   \n",
       "1044    a_ORANGE_GREEN          5W GREEN ALT 2             0   \n",
       "1270   b_3S SHOW#1 WED         3S LAVENDER ALT             1   \n",
       "1435  b_GNX1 SHOW MTTF  5E GREEN EXPRESS 1 ALT             0   \n",
       "3716    a_GREY MF SHOW             7E GREY ALT             0   \n",
       "\n",
       "                         trip_headsign                   shape_id  \\\n",
       "0                         Water Survey          [@6.0.15252684@]2   \n",
       "1                       Lincoln Square      130N SILVER EVENING 1   \n",
       "2                  Lincoln & Killarney              22N ILLINI 10   \n",
       "3                                  PAR                 SILVER 120   \n",
       "4     Lincoln Square - US 150 & Dodson  [@2.0.86175868@]ORANGE 12   \n",
       "...                                ...                        ...   \n",
       "969                   Harris & Harvard        [@14.0.56289002@]26   \n",
       "1044                   Fairlawn & Vine                   7E ALT 2   \n",
       "1270                   Crescent & John                   3S ALT 1   \n",
       "1435                  Harris & Harvard               5E EXP 1 ALT   \n",
       "3716                       Race & Iowa              7E GREY ALT 1   \n",
       "\n",
       "                      service_id  \\\n",
       "0             LN2 MF_merged_1703   \n",
       "1                   SV4 UI NOSCH   \n",
       "2                        I2 UI-F   \n",
       "3                       SV4 UI F   \n",
       "4              O4 MF_merged_1589   \n",
       "...                          ...   \n",
       "969                1N SHOW  MTTF   \n",
       "1044    ORANGE_GREEN_merged_1551   \n",
       "1270               3S SHOW#1 WED   \n",
       "1435  GNX1 SHOW MTTF_merged_1668   \n",
       "3716    GREY MF SHOW_merged_1563   \n",
       "\n",
       "                                                trip_id  \\\n",
       "0     [@6.0.15252684@][2][1622672028480]/57__LN2_MF_...   \n",
       "1     [@12.0.42224456@][3][1246897172937]/2__SV4_UI_...   \n",
       "2        [@6.0.28930998@][1][1654017581186]/12__I2_UI-F   \n",
       "3      [@6.0.28932250@][2][1654215235685]/129__SV4_UI_F   \n",
       "4     [@2.0.86175868@][1458585713139]/14__O4_MF_merg...   \n",
       "...                                                 ...   \n",
       "969   [@6.0.4561608@][1][1612730147779]/2__1N_SHOW__...   \n",
       "1044  [@36.0.28512376@][3][1175211427003]/21__ORANGE...   \n",
       "1270  [@36.0.28512104@][2][1175208212394]/2__3S_SHOW...   \n",
       "1435  [@36.0.28512759@][3][1175211123269]/8__GNX1_SH...   \n",
       "3716  [@36.0.28513123@][3][1175211352675]/15__GREY_M...   \n",
       "\n",
       "                                       original_trip_id  \n",
       "0         [@6.0.15252684@][2][1622672028480]/57__LN2_MF  \n",
       "1                                                   NaN  \n",
       "2                                                   NaN  \n",
       "3                                                   NaN  \n",
       "4             [@2.0.86175868@][1458585713139]/14__O4_MF  \n",
       "...                                                 ...  \n",
       "969                                                 NaN  \n",
       "1044  [@36.0.28512376@][3][1175211427003]/21__ORANGE...  \n",
       "1270                                                NaN  \n",
       "1435  [@36.0.28512759@][3][1175211123269]/8__GNX1_SH...  \n",
       "3716  [@36.0.28513123@][3][1175211352675]/15__GREY_M...  \n",
       "\n",
       "[102 rows x 8 columns]"
      ]
     },
     "execution_count": 10,
     "metadata": {},
     "output_type": "execute_result"
    }
   ],
   "source": [
    "trips_df"
   ]
  },
  {
   "cell_type": "code",
   "execution_count": 11,
   "id": "556bd39a-02e1-428a-b2b2-87c4c68c8548",
   "metadata": {},
   "outputs": [],
   "source": [
    "shapelink = \"https://developer.cumtd.com/api/v2.2/json/GetShape?key=bc3d6f16852444f888014a01803b3954\""
   ]
  },
  {
   "cell_type": "code",
   "execution_count": 12,
   "id": "ce12983f-b7b5-44ff-95f4-a24d7ace1184",
   "metadata": {},
   "outputs": [],
   "source": [
    "shapes = []\n",
    "for idx, row in trips_df.iterrows():\n",
    "    shape = []\n",
    "    shape_id = row['shape_id']\n",
    "    response = requests.get(shapelink, params={'shape_id':shape_id})\n",
    "    # print(response.json()['shapes'][0])\n",
    "    for point in response.json()['shapes']:\n",
    "        lat = point['shape_pt_lat']\n",
    "        lon = point['shape_pt_lon']\n",
    "        shape.append((lon, lat))\n",
    "    shapes.append(shape)\n",
    "trips_df['shapes'] = shapes"
   ]
  },
  {
   "cell_type": "code",
   "execution_count": 13,
   "id": "7b32d448-699a-477c-b7a2-919c64855e06",
   "metadata": {},
   "outputs": [
    {
     "data": {
      "text/html": [
       "<div>\n",
       "<style scoped>\n",
       "    .dataframe tbody tr th:only-of-type {\n",
       "        vertical-align: middle;\n",
       "    }\n",
       "\n",
       "    .dataframe tbody tr th {\n",
       "        vertical-align: top;\n",
       "    }\n",
       "\n",
       "    .dataframe thead th {\n",
       "        text-align: right;\n",
       "    }\n",
       "</style>\n",
       "<table border=\"1\" class=\"dataframe\">\n",
       "  <thead>\n",
       "    <tr style=\"text-align: right;\">\n",
       "      <th></th>\n",
       "      <th>block_id</th>\n",
       "      <th>route_id</th>\n",
       "      <th>direction_id</th>\n",
       "      <th>trip_headsign</th>\n",
       "      <th>shape_id</th>\n",
       "      <th>service_id</th>\n",
       "      <th>trip_id</th>\n",
       "      <th>original_trip_id</th>\n",
       "      <th>shapes</th>\n",
       "    </tr>\n",
       "  </thead>\n",
       "  <tbody>\n",
       "    <tr>\n",
       "      <th>0</th>\n",
       "      <td>b_LN2 MF</td>\n",
       "      <td>LINK</td>\n",
       "      <td>1</td>\n",
       "      <td>Water Survey</td>\n",
       "      <td>[@6.0.15252684@]2</td>\n",
       "      <td>LN2 MF_merged_1703</td>\n",
       "      <td>[@6.0.15252684@][2][1622672028480]/57__LN2_MF_...</td>\n",
       "      <td>[@6.0.15252684@][2][1622672028480]/57__LN2_MF</td>\n",
       "      <td>[(-88.228952, 40.116187), (-88.228948, 40.1163...</td>\n",
       "    </tr>\n",
       "    <tr>\n",
       "      <th>1</th>\n",
       "      <td>a_SV4 UI NOSCH</td>\n",
       "      <td>SILVER EVENING</td>\n",
       "      <td>0</td>\n",
       "      <td>Lincoln Square</td>\n",
       "      <td>130N SILVER EVENING 1</td>\n",
       "      <td>SV4 UI NOSCH</td>\n",
       "      <td>[@12.0.42224456@][3][1246897172937]/2__SV4_UI_...</td>\n",
       "      <td>NaN</td>\n",
       "      <td>[(-88.22037, 40.092645), (-88.220354, 40.09259...</td>\n",
       "    </tr>\n",
       "    <tr>\n",
       "      <th>2</th>\n",
       "      <td>a_I2 UI-F</td>\n",
       "      <td>ILLINI</td>\n",
       "      <td>0</td>\n",
       "      <td>Lincoln &amp; Killarney</td>\n",
       "      <td>22N ILLINI 10</td>\n",
       "      <td>I2 UI-F</td>\n",
       "      <td>[@6.0.28930998@][1][1654017581186]/12__I2_UI-F</td>\n",
       "      <td>NaN</td>\n",
       "      <td>[(-88.220416, 40.099466), (-88.222829, 40.0994...</td>\n",
       "    </tr>\n",
       "    <tr>\n",
       "      <th>3</th>\n",
       "      <td>a_SV4 UI F</td>\n",
       "      <td>SILVER</td>\n",
       "      <td>1</td>\n",
       "      <td>PAR</td>\n",
       "      <td>SILVER 120</td>\n",
       "      <td>SV4 UI F</td>\n",
       "      <td>[@6.0.28932250@][2][1654215235685]/129__SV4_UI_F</td>\n",
       "      <td>NaN</td>\n",
       "      <td>[(-88.208029, 40.111605), (-88.208929, 40.1115...</td>\n",
       "    </tr>\n",
       "    <tr>\n",
       "      <th>4</th>\n",
       "      <td>a_O4 MF</td>\n",
       "      <td>ORANGE</td>\n",
       "      <td>0</td>\n",
       "      <td>Lincoln Square - US 150 &amp; Dodson</td>\n",
       "      <td>[@2.0.86175868@]ORANGE 12</td>\n",
       "      <td>O4 MF_merged_1589</td>\n",
       "      <td>[@2.0.86175868@][1458585713139]/14__O4_MF_merg...</td>\n",
       "      <td>[@2.0.86175868@][1458585713139]/14__O4_MF</td>\n",
       "      <td>[(-88.240893, 40.115915), (-88.24105, 40.11550...</td>\n",
       "    </tr>\n",
       "    <tr>\n",
       "      <th>...</th>\n",
       "      <td>...</td>\n",
       "      <td>...</td>\n",
       "      <td>...</td>\n",
       "      <td>...</td>\n",
       "      <td>...</td>\n",
       "      <td>...</td>\n",
       "      <td>...</td>\n",
       "      <td>...</td>\n",
       "      <td>...</td>\n",
       "    </tr>\n",
       "    <tr>\n",
       "      <th>969</th>\n",
       "      <td>b_1N SHOW  MTTF</td>\n",
       "      <td>1 YELLOW ALT</td>\n",
       "      <td>0</td>\n",
       "      <td>Harris &amp; Harvard</td>\n",
       "      <td>[@14.0.56289002@]26</td>\n",
       "      <td>1N SHOW  MTTF</td>\n",
       "      <td>[@6.0.4561608@][1][1612730147779]/2__1N_SHOW__...</td>\n",
       "      <td>NaN</td>\n",
       "      <td>[(-88.197396, 40.116163), (-88.197379, 40.1163...</td>\n",
       "    </tr>\n",
       "    <tr>\n",
       "      <th>1044</th>\n",
       "      <td>a_ORANGE_GREEN</td>\n",
       "      <td>5W GREEN ALT 2</td>\n",
       "      <td>0</td>\n",
       "      <td>Fairlawn &amp; Vine</td>\n",
       "      <td>7E ALT 2</td>\n",
       "      <td>ORANGE_GREEN_merged_1551</td>\n",
       "      <td>[@36.0.28512376@][3][1175211427003]/21__ORANGE...</td>\n",
       "      <td>[@36.0.28512376@][3][1175211427003]/21__ORANGE...</td>\n",
       "      <td>[(-88.181411, 40.103297), (-88.181399, 40.1025...</td>\n",
       "    </tr>\n",
       "    <tr>\n",
       "      <th>1270</th>\n",
       "      <td>b_3S SHOW#1 WED</td>\n",
       "      <td>3S LAVENDER ALT</td>\n",
       "      <td>1</td>\n",
       "      <td>Crescent &amp; John</td>\n",
       "      <td>3S ALT 1</td>\n",
       "      <td>3S SHOW#1 WED</td>\n",
       "      <td>[@36.0.28512104@][2][1175208212394]/2__3S_SHOW...</td>\n",
       "      <td>NaN</td>\n",
       "      <td>[(-88.197396, 40.116163), (-88.197379, 40.1163...</td>\n",
       "    </tr>\n",
       "    <tr>\n",
       "      <th>1435</th>\n",
       "      <td>b_GNX1 SHOW MTTF</td>\n",
       "      <td>5E GREEN EXPRESS 1 ALT</td>\n",
       "      <td>0</td>\n",
       "      <td>Harris &amp; Harvard</td>\n",
       "      <td>5E EXP 1 ALT</td>\n",
       "      <td>GNX1 SHOW MTTF_merged_1668</td>\n",
       "      <td>[@36.0.28512759@][3][1175211123269]/8__GNX1_SH...</td>\n",
       "      <td>[@36.0.28512759@][3][1175211123269]/8__GNX1_SH...</td>\n",
       "      <td>[(-88.197396, 40.116163), (-88.197379, 40.1163...</td>\n",
       "    </tr>\n",
       "    <tr>\n",
       "      <th>3716</th>\n",
       "      <td>a_GREY MF SHOW</td>\n",
       "      <td>7E GREY ALT</td>\n",
       "      <td>0</td>\n",
       "      <td>Race &amp; Iowa</td>\n",
       "      <td>7E GREY ALT 1</td>\n",
       "      <td>GREY MF SHOW_merged_1563</td>\n",
       "      <td>[@36.0.28513123@][3][1175211352675]/15__GREY_M...</td>\n",
       "      <td>[@36.0.28513123@][3][1175211352675]/15__GREY_M...</td>\n",
       "      <td>[(-88.197396, 40.116163), (-88.197379, 40.1163...</td>\n",
       "    </tr>\n",
       "  </tbody>\n",
       "</table>\n",
       "<p>102 rows × 9 columns</p>\n",
       "</div>"
      ],
      "text/plain": [
       "              block_id                route_id  direction_id  \\\n",
       "0             b_LN2 MF                    LINK             1   \n",
       "1       a_SV4 UI NOSCH          SILVER EVENING             0   \n",
       "2            a_I2 UI-F                  ILLINI             0   \n",
       "3           a_SV4 UI F                  SILVER             1   \n",
       "4              a_O4 MF                  ORANGE             0   \n",
       "...                ...                     ...           ...   \n",
       "969    b_1N SHOW  MTTF            1 YELLOW ALT             0   \n",
       "1044    a_ORANGE_GREEN          5W GREEN ALT 2             0   \n",
       "1270   b_3S SHOW#1 WED         3S LAVENDER ALT             1   \n",
       "1435  b_GNX1 SHOW MTTF  5E GREEN EXPRESS 1 ALT             0   \n",
       "3716    a_GREY MF SHOW             7E GREY ALT             0   \n",
       "\n",
       "                         trip_headsign                   shape_id  \\\n",
       "0                         Water Survey          [@6.0.15252684@]2   \n",
       "1                       Lincoln Square      130N SILVER EVENING 1   \n",
       "2                  Lincoln & Killarney              22N ILLINI 10   \n",
       "3                                  PAR                 SILVER 120   \n",
       "4     Lincoln Square - US 150 & Dodson  [@2.0.86175868@]ORANGE 12   \n",
       "...                                ...                        ...   \n",
       "969                   Harris & Harvard        [@14.0.56289002@]26   \n",
       "1044                   Fairlawn & Vine                   7E ALT 2   \n",
       "1270                   Crescent & John                   3S ALT 1   \n",
       "1435                  Harris & Harvard               5E EXP 1 ALT   \n",
       "3716                       Race & Iowa              7E GREY ALT 1   \n",
       "\n",
       "                      service_id  \\\n",
       "0             LN2 MF_merged_1703   \n",
       "1                   SV4 UI NOSCH   \n",
       "2                        I2 UI-F   \n",
       "3                       SV4 UI F   \n",
       "4              O4 MF_merged_1589   \n",
       "...                          ...   \n",
       "969                1N SHOW  MTTF   \n",
       "1044    ORANGE_GREEN_merged_1551   \n",
       "1270               3S SHOW#1 WED   \n",
       "1435  GNX1 SHOW MTTF_merged_1668   \n",
       "3716    GREY MF SHOW_merged_1563   \n",
       "\n",
       "                                                trip_id  \\\n",
       "0     [@6.0.15252684@][2][1622672028480]/57__LN2_MF_...   \n",
       "1     [@12.0.42224456@][3][1246897172937]/2__SV4_UI_...   \n",
       "2        [@6.0.28930998@][1][1654017581186]/12__I2_UI-F   \n",
       "3      [@6.0.28932250@][2][1654215235685]/129__SV4_UI_F   \n",
       "4     [@2.0.86175868@][1458585713139]/14__O4_MF_merg...   \n",
       "...                                                 ...   \n",
       "969   [@6.0.4561608@][1][1612730147779]/2__1N_SHOW__...   \n",
       "1044  [@36.0.28512376@][3][1175211427003]/21__ORANGE...   \n",
       "1270  [@36.0.28512104@][2][1175208212394]/2__3S_SHOW...   \n",
       "1435  [@36.0.28512759@][3][1175211123269]/8__GNX1_SH...   \n",
       "3716  [@36.0.28513123@][3][1175211352675]/15__GREY_M...   \n",
       "\n",
       "                                       original_trip_id  \\\n",
       "0         [@6.0.15252684@][2][1622672028480]/57__LN2_MF   \n",
       "1                                                   NaN   \n",
       "2                                                   NaN   \n",
       "3                                                   NaN   \n",
       "4             [@2.0.86175868@][1458585713139]/14__O4_MF   \n",
       "...                                                 ...   \n",
       "969                                                 NaN   \n",
       "1044  [@36.0.28512376@][3][1175211427003]/21__ORANGE...   \n",
       "1270                                                NaN   \n",
       "1435  [@36.0.28512759@][3][1175211123269]/8__GNX1_SH...   \n",
       "3716  [@36.0.28513123@][3][1175211352675]/15__GREY_M...   \n",
       "\n",
       "                                                 shapes  \n",
       "0     [(-88.228952, 40.116187), (-88.228948, 40.1163...  \n",
       "1     [(-88.22037, 40.092645), (-88.220354, 40.09259...  \n",
       "2     [(-88.220416, 40.099466), (-88.222829, 40.0994...  \n",
       "3     [(-88.208029, 40.111605), (-88.208929, 40.1115...  \n",
       "4     [(-88.240893, 40.115915), (-88.24105, 40.11550...  \n",
       "...                                                 ...  \n",
       "969   [(-88.197396, 40.116163), (-88.197379, 40.1163...  \n",
       "1044  [(-88.181411, 40.103297), (-88.181399, 40.1025...  \n",
       "1270  [(-88.197396, 40.116163), (-88.197379, 40.1163...  \n",
       "1435  [(-88.197396, 40.116163), (-88.197379, 40.1163...  \n",
       "3716  [(-88.197396, 40.116163), (-88.197379, 40.1163...  \n",
       "\n",
       "[102 rows x 9 columns]"
      ]
     },
     "execution_count": 13,
     "metadata": {},
     "output_type": "execute_result"
    }
   ],
   "source": [
    "trips_df"
   ]
  },
  {
   "cell_type": "code",
   "execution_count": 14,
   "id": "982adf63-43d4-473b-a325-4235415d367a",
   "metadata": {},
   "outputs": [],
   "source": [
    "from shapely.geometry import LineString, Point\n",
    "geometry = trips_df['shapes'].apply(lambda x: LineString(x))"
   ]
  },
  {
   "cell_type": "code",
   "execution_count": 15,
   "id": "a2b1d60a-862b-4ed8-96cc-3014351a9c5d",
   "metadata": {},
   "outputs": [],
   "source": [
    "trips_df['geometry'] = geometry"
   ]
  },
  {
   "cell_type": "code",
   "execution_count": 16,
   "id": "0d63807b-0ac0-45f8-8b92-66ce05948697",
   "metadata": {},
   "outputs": [
    {
     "name": "stdout",
     "output_type": "stream",
     "text": [
      "EPSG:4326\n"
     ]
    }
   ],
   "source": [
    "trips_gdf = gpd.GeoDataFrame(trips_df, geometry=geometry)\n",
    "trips_gdf = trips_gdf.set_crs(\"EPSG:4326\")\n",
    "print(trips_gdf.crs)\n",
    "trips_gdf = trips_gdf.drop(columns=['shapes'])"
   ]
  },
  {
   "cell_type": "code",
   "execution_count": 32,
   "id": "bd5435c7-1d17-4bf6-bd5a-b3af4c34b684",
   "metadata": {},
   "outputs": [],
   "source": [
    "route_colors = []\n",
    "routelink = \"https://developer.cumtd.com/api/v2.2/json/GetRoute?key=bc3d6f16852444f888014a01803b3954\"\n",
    "for idx,row in trips_gdf.iterrows():\n",
    "    route_id = row['route_id']\n",
    "    rresponse = requests.get(routelink, params={'route_id':route_id})\n",
    "    #print(rresponse.json()['routes'])\n",
    "    color = '#' + rresponse.json()['routes'][0]['route_color']\n",
    "    route_colors.append(color)"
   ]
  },
  {
   "cell_type": "code",
   "execution_count": 33,
   "id": "39e9d4cb-8e56-48e1-b97b-77f0d1d799c8",
   "metadata": {},
   "outputs": [
    {
     "name": "stdout",
     "output_type": "stream",
     "text": [
      "['#00ffff', '#cccccc', '#5a1d5a', '#cccccc', '#f99f2a', '#ed1c24', '#5a1d5a', '#5a1d5a', '#006991', '#008063', '#355caa', '#fcee1f', '#008063', '#a78bc0', '#fcee1f', '#cccccc', '#a78bc0', '#5a1d5a', '#5a1d5a', '#008063', '#c7994a', '#006991', '#b2d235', '#fcee1f', '#808285', '#eb008b', '#825622', '#a78bc0', '#006991', '#006991', '#808285', '#a78bc0', '#cccccc', '#eb008b', '#cccccc', '#008063', '#eb008b', '#c7994a', '#808285', '#fcee1f', '#008063', '#cccccc', '#008063', '#5a1d5a', '#008063', '#b2d235', '#5a1d5a', '#006991', '#cccccc', '#5a1d5a', '#808285', '#000000', '#cccccc', '#5a1d5a', '#008063', '#ed1c24', '#f99f2a', '#fcee1f', '#fcee1f', '#c7994a', '#008063', '#fcee1f', '#fcee1f', '#808285', '#fcee1f', '#006991', '#cccccc', '#008063', '#825622', '#008063', '#006991', '#008063', '#825622', '#006991', '#eb008b', '#cccccc', '#cccccc', '#808285', '#008063', '#ffbfff', '#b2d235', '#9e8966', '#ffc0ff', '#008063', '#2b3088', '#eb008b', '#fcee1f', '#c7994a', '#b2d235', '#008063', '#fcee1f', '#fcee1f', '#825622', '#008063', '#808285', '#9e8966', '#f99f2a', '#fcee1f', '#008063', '#a78bc0', '#008063', '#808285']\n"
     ]
    }
   ],
   "source": [
    "print(route_colors)\n",
    "trips_gdf['color'] = route_colors"
   ]
  },
  {
   "cell_type": "code",
   "execution_count": 34,
   "id": "a8636512-4eca-43fa-be87-2b5b0776489a",
   "metadata": {},
   "outputs": [
    {
     "data": {
      "text/plain": [
       "<AxesSubplot:>"
      ]
     },
     "execution_count": 34,
     "metadata": {},
     "output_type": "execute_result"
    },
    {
     "data": {
      "image/png": "[encoded data removed]",
      "text/plain": [
       "<Figure size 432x288 with 1 Axes>"
      ]
     },
     "metadata": {
      "needs_background": "light"
     },
     "output_type": "display_data"
    }
   ],
   "source": [
    "trips_gdf.plot(color = trips_gdf['color'])"
   ]
  },
  {
   "cell_type": "code",
   "execution_count": 35,
   "id": "2854ad27-9fed-46de-a382-a720b2a9995b",
   "metadata": {},
   "outputs": [],
   "source": [
    "stops_geometry = []\n",
    "for idx,row in stop_df.iterrows():\n",
    "    lon = row['Lon']\n",
    "    lat = row['Lat']\n",
    "    stops_geometry.append(Point((lon, lat)))\n",
    "stops_gdf = gpd.GeoDataFrame(stop_df, geometry=stops_geometry)\n",
    "stops_gdf = stops_gdf.set_crs(\"EPSG:4326\")"
   ]
  },
  {
   "cell_type": "code",
   "execution_count": 36,
   "id": "151dd400-42b7-40d9-8066-08281cf3f47f",
   "metadata": {},
   "outputs": [
    {
     "data": {
      "text/plain": [
       "<AxesSubplot:>"
      ]
     },
     "execution_count": 36,
     "metadata": {},
     "output_type": "execute_result"
    },
    {
     "data": {
      "image/png": "[encoded data removed]",
      "text/plain": [
       "<Figure size 432x288 with 1 Axes>"
      ]
     },
     "metadata": {
      "needs_background": "light"
     },
     "output_type": "display_data"
    }
   ],
   "source": [
    "stops_gdf.plot()"
   ]
  },
  {
   "cell_type": "code",
   "execution_count": 37,
   "id": "bf928c8f-e36d-4878-8a50-73f721761bf9",
   "metadata": {},
   "outputs": [
    {
     "name": "stderr",
     "output_type": "stream",
     "text": [
      "/tmp/ipykernel_300/1178254454.py:2: UserWarning: Column names longer than 10 characters will be truncated when saved to ESRI Shapefile.\n",
      "  trips_gdf.to_file('routes/CUMTD_Routes.shp')\n"
     ]
    }
   ],
   "source": [
    "stops_gdf.to_file('stops/CUMTD_Stops.shp')\n",
    "trips_gdf.to_file('routes/CUMTD_Routes.shp')"
   ]
  }
 ],
 "metadata": {
  "kernelspec": {
   "display_name": "Python 3",
   "language": "python",
   "name": "python3"
  },
  "language_info": {
   "codemirror_mode": {
    "name": "ipython",
    "version": 3
   },
   "file_extension": ".py",
   "mimetype": "text/x-python",
   "name": "python",
   "nbconvert_exporter": "python",
   "pygments_lexer": "ipython3",
   "version": "3.8.12"
  }
 },
 "nbformat": 4,
 "nbformat_minor": 5
}
